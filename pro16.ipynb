{
 "cells": [
  {
   "cell_type": "markdown",
   "metadata": {},
   "source": [
    "'Step 1: We import the necessary Python libraries that will be used throughout the project.'"
   ]
  },
  {
   "cell_type": "code",
   "execution_count": 1,
   "metadata": {},
   "outputs": [],
   "source": [
    "import numpy as np\n",
    "import pandas as pd"
   ]
  },
  {
   "cell_type": "markdown",
   "metadata": {},
   "source": [
    " 'Step 2: Upload the CSV file and display the first five rows'"
   ]
  },
  {
   "cell_type": "code",
   "execution_count": 2,
   "metadata": {},
   "outputs": [
    {
     "data": {
      "text/html": [
       "<div>\n",
       "<style scoped>\n",
       "    .dataframe tbody tr th:only-of-type {\n",
       "        vertical-align: middle;\n",
       "    }\n",
       "\n",
       "    .dataframe tbody tr th {\n",
       "        vertical-align: top;\n",
       "    }\n",
       "\n",
       "    .dataframe thead th {\n",
       "        text-align: right;\n",
       "    }\n",
       "</style>\n",
       "<table border=\"1\" class=\"dataframe\">\n",
       "  <thead>\n",
       "    <tr style=\"text-align: right;\">\n",
       "      <th></th>\n",
       "      <th>Date</th>\n",
       "      <th>StartTime</th>\n",
       "      <th>DayOfWeek</th>\n",
       "      <th>GoingTo</th>\n",
       "      <th>Distance</th>\n",
       "      <th>MaxSpeed</th>\n",
       "      <th>AvgSpeed</th>\n",
       "      <th>AvgMovingSpeed</th>\n",
       "      <th>FuelEconomy</th>\n",
       "      <th>TotalTime</th>\n",
       "      <th>MovingTime</th>\n",
       "      <th>Toll</th>\n",
       "      <th>Comments</th>\n",
       "    </tr>\n",
       "  </thead>\n",
       "  <tbody>\n",
       "    <tr>\n",
       "      <th>0</th>\n",
       "      <td>1/6/2012</td>\n",
       "      <td>16:37</td>\n",
       "      <td>Friday</td>\n",
       "      <td>home</td>\n",
       "      <td>51.29</td>\n",
       "      <td>127.4</td>\n",
       "      <td>78.3</td>\n",
       "      <td>84.8</td>\n",
       "      <td>NaN</td>\n",
       "      <td>39.3</td>\n",
       "      <td>36.3</td>\n",
       "      <td>No</td>\n",
       "      <td>NaN</td>\n",
       "    </tr>\n",
       "    <tr>\n",
       "      <th>1</th>\n",
       "      <td>1/6/2012</td>\n",
       "      <td>8:20</td>\n",
       "      <td>Friday</td>\n",
       "      <td>work</td>\n",
       "      <td>51.63</td>\n",
       "      <td>130.3</td>\n",
       "      <td>81.8</td>\n",
       "      <td>88.9</td>\n",
       "      <td>NaN</td>\n",
       "      <td>37.9</td>\n",
       "      <td>34.9</td>\n",
       "      <td>No</td>\n",
       "      <td>NaN</td>\n",
       "    </tr>\n",
       "    <tr>\n",
       "      <th>2</th>\n",
       "      <td>1/4/2012</td>\n",
       "      <td>16:17</td>\n",
       "      <td>Wednesday</td>\n",
       "      <td>home</td>\n",
       "      <td>51.27</td>\n",
       "      <td>1207.4</td>\n",
       "      <td>82.0</td>\n",
       "      <td>NaN</td>\n",
       "      <td>NaN</td>\n",
       "      <td>NaN</td>\n",
       "      <td>35.9</td>\n",
       "      <td>No</td>\n",
       "      <td>NaN</td>\n",
       "    </tr>\n",
       "    <tr>\n",
       "      <th>3</th>\n",
       "      <td>1/4/2012</td>\n",
       "      <td>7:53</td>\n",
       "      <td>Wednesday</td>\n",
       "      <td>work</td>\n",
       "      <td>49.17</td>\n",
       "      <td>132.3</td>\n",
       "      <td>74.2</td>\n",
       "      <td>82.9</td>\n",
       "      <td>NaN</td>\n",
       "      <td>39.8</td>\n",
       "      <td>35.6</td>\n",
       "      <td>NaN</td>\n",
       "      <td>NaN</td>\n",
       "    </tr>\n",
       "    <tr>\n",
       "      <th>4</th>\n",
       "      <td>1/3/2012</td>\n",
       "      <td>18:57</td>\n",
       "      <td>Tuesday</td>\n",
       "      <td>home</td>\n",
       "      <td>51.15</td>\n",
       "      <td>136.2</td>\n",
       "      <td>83.4</td>\n",
       "      <td>88.1</td>\n",
       "      <td>NaN</td>\n",
       "      <td>36.8</td>\n",
       "      <td>34.8</td>\n",
       "      <td>NaN</td>\n",
       "      <td>NaN</td>\n",
       "    </tr>\n",
       "    <tr>\n",
       "      <th>...</th>\n",
       "      <td>...</td>\n",
       "      <td>...</td>\n",
       "      <td>...</td>\n",
       "      <td>...</td>\n",
       "      <td>...</td>\n",
       "      <td>...</td>\n",
       "      <td>...</td>\n",
       "      <td>...</td>\n",
       "      <td>...</td>\n",
       "      <td>...</td>\n",
       "      <td>...</td>\n",
       "      <td>...</td>\n",
       "      <td>...</td>\n",
       "    </tr>\n",
       "    <tr>\n",
       "      <th>200</th>\n",
       "      <td>7/18/2011</td>\n",
       "      <td>8:09</td>\n",
       "      <td>Monday</td>\n",
       "      <td>work</td>\n",
       "      <td>54.52</td>\n",
       "      <td>125.6</td>\n",
       "      <td>49.9</td>\n",
       "      <td>82.4</td>\n",
       "      <td>7.89</td>\n",
       "      <td>65.5</td>\n",
       "      <td>39.7</td>\n",
       "      <td>No</td>\n",
       "      <td>NaN</td>\n",
       "    </tr>\n",
       "    <tr>\n",
       "      <th>201</th>\n",
       "      <td>7/14/2011</td>\n",
       "      <td>8:03</td>\n",
       "      <td>Thursday</td>\n",
       "      <td>work</td>\n",
       "      <td>50.90</td>\n",
       "      <td>3123.7</td>\n",
       "      <td>76.2</td>\n",
       "      <td>NaN</td>\n",
       "      <td>7.89</td>\n",
       "      <td>40.1</td>\n",
       "      <td>32.1</td>\n",
       "      <td>Yes</td>\n",
       "      <td>NaN</td>\n",
       "    </tr>\n",
       "    <tr>\n",
       "      <th>202</th>\n",
       "      <td>7/13/2011</td>\n",
       "      <td>17:08</td>\n",
       "      <td>Wednesday</td>\n",
       "      <td>home</td>\n",
       "      <td>51.96</td>\n",
       "      <td>132.6</td>\n",
       "      <td>57.5</td>\n",
       "      <td>76.7</td>\n",
       "      <td>NaN</td>\n",
       "      <td>54.2</td>\n",
       "      <td>40.6</td>\n",
       "      <td>Yes</td>\n",
       "      <td>NaN</td>\n",
       "    </tr>\n",
       "    <tr>\n",
       "      <th>203</th>\n",
       "      <td>7/12/2011</td>\n",
       "      <td>17:51</td>\n",
       "      <td>Tuesday</td>\n",
       "      <td>home</td>\n",
       "      <td>53.28</td>\n",
       "      <td>125.8</td>\n",
       "      <td>61.6</td>\n",
       "      <td>NaN</td>\n",
       "      <td>NaN</td>\n",
       "      <td>51.9</td>\n",
       "      <td>36.5</td>\n",
       "      <td>Yes</td>\n",
       "      <td>NaN</td>\n",
       "    </tr>\n",
       "    <tr>\n",
       "      <th>204</th>\n",
       "      <td>7/11/2011</td>\n",
       "      <td>16:56</td>\n",
       "      <td>Monday</td>\n",
       "      <td>home</td>\n",
       "      <td>51.73</td>\n",
       "      <td>-120.0</td>\n",
       "      <td>62.8</td>\n",
       "      <td>NaN</td>\n",
       "      <td>NaN</td>\n",
       "      <td>NaN</td>\n",
       "      <td>33.6</td>\n",
       "      <td>Yes</td>\n",
       "      <td>NaN</td>\n",
       "    </tr>\n",
       "  </tbody>\n",
       "</table>\n",
       "<p>205 rows × 13 columns</p>\n",
       "</div>"
      ],
      "text/plain": [
       "          Date StartTime  DayOfWeek GoingTo  Distance  MaxSpeed  AvgSpeed  \\\n",
       "0     1/6/2012     16:37     Friday    home     51.29     127.4      78.3   \n",
       "1     1/6/2012      8:20     Friday    work     51.63     130.3      81.8   \n",
       "2     1/4/2012     16:17  Wednesday    home     51.27    1207.4      82.0   \n",
       "3     1/4/2012      7:53  Wednesday    work     49.17     132.3      74.2   \n",
       "4     1/3/2012     18:57    Tuesday    home     51.15     136.2      83.4   \n",
       "..         ...       ...        ...     ...       ...       ...       ...   \n",
       "200  7/18/2011      8:09     Monday    work     54.52     125.6      49.9   \n",
       "201  7/14/2011      8:03   Thursday    work     50.90    3123.7      76.2   \n",
       "202  7/13/2011     17:08  Wednesday    home     51.96     132.6      57.5   \n",
       "203  7/12/2011     17:51    Tuesday    home     53.28     125.8      61.6   \n",
       "204  7/11/2011     16:56     Monday    home     51.73    -120.0      62.8   \n",
       "\n",
       "     AvgMovingSpeed  FuelEconomy  TotalTime  MovingTime Toll Comments  \n",
       "0              84.8          NaN       39.3        36.3   No      NaN  \n",
       "1              88.9          NaN       37.9        34.9   No      NaN  \n",
       "2               NaN          NaN        NaN        35.9   No      NaN  \n",
       "3              82.9          NaN       39.8        35.6  NaN      NaN  \n",
       "4              88.1          NaN       36.8        34.8  NaN      NaN  \n",
       "..              ...          ...        ...         ...  ...      ...  \n",
       "200            82.4         7.89       65.5        39.7   No      NaN  \n",
       "201             NaN         7.89       40.1        32.1  Yes      NaN  \n",
       "202            76.7          NaN       54.2        40.6  Yes      NaN  \n",
       "203             NaN          NaN       51.9        36.5  Yes      NaN  \n",
       "204             NaN          NaN        NaN        33.6  Yes      NaN  \n",
       "\n",
       "[205 rows x 13 columns]"
      ]
     },
     "execution_count": 2,
     "metadata": {},
     "output_type": "execute_result"
    }
   ],
   "source": [
    "data = pd.read_csv('travel_times.csv')\n",
    "data"
   ]
  },
  {
   "cell_type": "markdown",
   "metadata": {},
   "source": [
    "'Step 3: We use the info() function to get a summary of the dataset, including the number of non-null values, data types of each column, and memory usage'"
   ]
  },
  {
   "cell_type": "code",
   "execution_count": 3,
   "metadata": {},
   "outputs": [
    {
     "name": "stdout",
     "output_type": "stream",
     "text": [
      "<class 'pandas.core.frame.DataFrame'>\n",
      "RangeIndex: 205 entries, 0 to 204\n",
      "Data columns (total 13 columns):\n",
      " #   Column          Non-Null Count  Dtype  \n",
      "---  ------          --------------  -----  \n",
      " 0   Date            205 non-null    object \n",
      " 1   StartTime       205 non-null    object \n",
      " 2   DayOfWeek       205 non-null    object \n",
      " 3   GoingTo         205 non-null    object \n",
      " 4   Distance        205 non-null    float64\n",
      " 5   MaxSpeed        205 non-null    float64\n",
      " 6   AvgSpeed        205 non-null    float64\n",
      " 7   AvgMovingSpeed  188 non-null    float64\n",
      " 8   FuelEconomy     186 non-null    float64\n",
      " 9   TotalTime       176 non-null    float64\n",
      " 10  MovingTime      205 non-null    float64\n",
      " 11  Toll            174 non-null    object \n",
      " 12  Comments        24 non-null     object \n",
      "dtypes: float64(7), object(6)\n",
      "memory usage: 20.9+ KB\n"
     ]
    }
   ],
   "source": [
    "data.info()"
   ]
  },
  {
   "cell_type": "markdown",
   "metadata": {},
   "source": [
    "'Step 4: Since the 'Comments' column has a considerably higher number of missing (NaN) values than the other columns, we decide to drop it from the dataset.'"
   ]
  },
  {
   "cell_type": "code",
   "execution_count": 4,
   "metadata": {},
   "outputs": [],
   "source": [
    "data.drop('Comments', axis=1, inplace=True)"
   ]
  },
  {
   "cell_type": "code",
   "execution_count": 5,
   "metadata": {},
   "outputs": [],
   "source": [
    "from sklearn.impute import SimpleImputer"
   ]
  },
  {
   "cell_type": "markdown",
   "metadata": {},
   "source": [
    "'Step 5: We use the 'mean' strategy, which replaces missing values whit the mean of the respective column.'"
   ]
  },
  {
   "cell_type": "code",
   "execution_count": 6,
   "metadata": {},
   "outputs": [],
   "source": [
    "imputer = SimpleImputer(strategy='mean')\n",
    "c2 = ['FuelEconomy', 'AvgMovingSpeed']\n",
    "data[c2] = imputer.fit_transform(data[c2])\n",
    "data[c2] = data[c2].round(2)"
   ]
  },
  {
   "cell_type": "markdown",
   "metadata": {},
   "source": [
    "'Step 6:Outlier Detection using the IQR method'"
   ]
  },
  {
   "cell_type": "code",
   "execution_count": 7,
   "metadata": {},
   "outputs": [],
   "source": [
    "Q1 = data['MaxSpeed'].quantile(0.25)\n",
    "Q3 = data['MaxSpeed'].quantile(0.75)\n",
    "IQR = Q3 - Q1\n",
    "Lower = Q1 - 1.5 * IQR\n",
    "upper = Q3 + 1.5 * IQR"
   ]
  },
  {
   "cell_type": "markdown",
   "metadata": {},
   "source": [
    "The detected outliers are:"
   ]
  },
  {
   "cell_type": "code",
   "execution_count": 8,
   "metadata": {},
   "outputs": [
    {
     "data": {
      "text/plain": [
       "[-138.0,\n",
       " -120.0,\n",
       " -32.5,\n",
       " 112.2,\n",
       " 114.4,\n",
       " 140.9,\n",
       " 1205.0,\n",
       " 1207.4,\n",
       " 1207.5,\n",
       " 1263.7,\n",
       " 1328.5,\n",
       " 3123.7]"
      ]
     },
     "execution_count": 8,
     "metadata": {},
     "output_type": "execute_result"
    }
   ],
   "source": [
    "outlier_speed = sorted(data[(data['MaxSpeed'] < Lower) | (data['MaxSpeed'] > upper)]['MaxSpeed'].tolist())\n",
    "outlier_speed"
   ]
  },
  {
   "cell_type": "markdown",
   "metadata": {},
   "source": [
    "'Step 7:Replace outliers with the column mean'"
   ]
  },
  {
   "cell_type": "code",
   "execution_count": 9,
   "metadata": {},
   "outputs": [],
   "source": [
    "mean_speed = round(data['MaxSpeed'].mean(), 2)\n",
    "data['MaxSpeed'] = data['MaxSpeed'].apply(lambda x: mean_speed if x < Lower or x > upper else x)"
   ]
  },
  {
   "cell_type": "code",
   "execution_count": 10,
   "metadata": {},
   "outputs": [
    {
     "name": "stdout",
     "output_type": "stream",
     "text": [
      "[166.07, 166.07, 166.07, 166.07, 166.07, 166.07, 166.07, 166.07, 166.07, 166.07, 166.07, 166.07]\n"
     ]
    }
   ],
   "source": [
    "print(sorted(data[(data['MaxSpeed'] < Lower) | (data['MaxSpeed'] > upper)]['MaxSpeed'].tolist()))"
   ]
  }
 ],
 "metadata": {
  "kernelspec": {
   "display_name": "Python 3",
   "language": "python",
   "name": "python3"
  },
  "language_info": {
   "codemirror_mode": {
    "name": "ipython",
    "version": 3
   },
   "file_extension": ".py",
   "mimetype": "text/x-python",
   "name": "python",
   "nbconvert_exporter": "python",
   "pygments_lexer": "ipython3",
   "version": "3.11.9"
  }
 },
 "nbformat": 4,
 "nbformat_minor": 2
}
